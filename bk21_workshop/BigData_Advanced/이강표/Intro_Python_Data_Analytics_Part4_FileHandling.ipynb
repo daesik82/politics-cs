{
 "cells": [
  {
   "cell_type": "markdown",
   "metadata": {},
   "source": [
    "# Introduction to Python Data Analytics\n",
    "# Part 4. File Handling"
   ]
  },
  {
   "cell_type": "markdown",
   "metadata": {},
   "source": [
    "Instructor: Kang P. Lee <br>"
   ]
  },
  {
   "cell_type": "markdown",
   "metadata": {},
   "source": [
    "## ▪ Read a File"
   ]
  },
  {
   "cell_type": "code",
   "execution_count": 1,
   "metadata": {},
   "outputs": [],
   "source": [
    "# open(file, mode='r', buffering=-1, encoding=None, errors=None, newline=None, closefd=True, opener=None)\n",
    "# Open file and return a stream.  Raise IOError upon failure.\n",
    "\n",
    "fo = open(\"Batting.csv\", mode=\"r\")\n",
    "\n",
    "pass   # Instead of pass, do whatever you want with the file.\n",
    "\n",
    "fo.close()"
   ]
  },
  {
   "cell_type": "markdown",
   "metadata": {},
   "source": [
    "- \"r\": Opens a file for reading. (default)\n",
    "- \"w\": Opens a file for writing. Creates a new file if it does not exist, or truncates the file if it exists.\n",
    "- \"a\": Opens for appending at the end of the file without truncating it. Creates a new file if it does not exist.\n",
    "- \"b\": Opens in binary mode.\n",
    "- \"+\": Opens a file for updating (reading and writing)"
   ]
  },
  {
   "cell_type": "code",
   "execution_count": 2,
   "metadata": {},
   "outputs": [],
   "source": [
    "with open(\"Batting.csv\", mode=\"r\") as fo:\n",
    "    \n",
    "    pass   # Instead of pass, do whatever you want with the file."
   ]
  },
  {
   "cell_type": "markdown",
   "metadata": {},
   "source": [
    "If you think it's a hassle to close a file whenever you open it, you can simply use <i>with open as</i>. "
   ]
  },
  {
   "cell_type": "code",
   "execution_count": 3,
   "metadata": {},
   "outputs": [],
   "source": [
    "with open(\"Batting.csv\", mode=\"r\") as fo:\n",
    "    content = fo.read()        # Return the whole content in the file.\n",
    "    \n",
    "    pass                       # Instead of pass, do whatever you want with the whole content of the file.    "
   ]
  },
  {
   "cell_type": "code",
   "execution_count": 4,
   "metadata": {},
   "outputs": [],
   "source": [
    "with open(\"Batting.csv\", mode=\"r\") as fo:\n",
    "    lines = fo.readlines()     # Return a list of lines.\n",
    "    \n",
    "    for line in lines:\n",
    "        pass                   # Instead of pass, do whatever you want with each line."
   ]
  },
  {
   "cell_type": "code",
   "execution_count": 5,
   "metadata": {},
   "outputs": [
    {
     "ename": "FileNotFoundError",
     "evalue": "[Errno 2] No such file or directory: 'Batttttttting.csv'",
     "output_type": "error",
     "traceback": [
      "\u001b[1;31m---------------------------------------------------------------------------\u001b[0m",
      "\u001b[1;31mFileNotFoundError\u001b[0m                         Traceback (most recent call last)",
      "\u001b[1;32m<ipython-input-5-63ae84aa7b8a>\u001b[0m in \u001b[0;36m<module>\u001b[1;34m()\u001b[0m\n\u001b[1;32m----> 1\u001b[1;33m \u001b[0mopen\u001b[0m\u001b[1;33m(\u001b[0m\u001b[1;34m\"Batttttttting.csv\"\u001b[0m\u001b[1;33m,\u001b[0m \u001b[0mmode\u001b[0m\u001b[1;33m=\u001b[0m\u001b[1;34m\"r\"\u001b[0m\u001b[1;33m)\u001b[0m\u001b[1;33m\u001b[0m\u001b[0m\n\u001b[0m",
      "\u001b[1;31mFileNotFoundError\u001b[0m: [Errno 2] No such file or directory: 'Batttttttting.csv'"
     ]
    }
   ],
   "source": [
    "open(\"Batttttttting.csv\", mode=\"r\")"
   ]
  },
  {
   "cell_type": "markdown",
   "metadata": {},
   "source": [
    "## ▪ Write a File"
   ]
  },
  {
   "cell_type": "code",
   "execution_count": 6,
   "metadata": {},
   "outputs": [],
   "source": [
    "with open(\"test.csv\", mode=\"w\") as fo:\n",
    "    fo.write(\"id,value1,value2\\n\")\n",
    "    \n",
    "    for i in range(10):\n",
    "        fo.write(\"{0},{1},{2}\\n\".format(i, i*10, i*100))"
   ]
  },
  {
   "cell_type": "markdown",
   "metadata": {},
   "source": [
    "Make sure to put a delimiter, e.g., tab (\"\\t\") or comma (\",\"), between columns and a new line at the end of each line."
   ]
  },
  {
   "cell_type": "markdown",
   "metadata": {},
   "source": [
    "## Exercises"
   ]
  },
  {
   "cell_type": "markdown",
   "metadata": {},
   "source": [
    "You have a 100 x 3 array <i>x</i> of random integers between 0 and 100 like below:"
   ]
  },
  {
   "cell_type": "code",
   "execution_count": 7,
   "metadata": {},
   "outputs": [
    {
     "data": {
      "text/plain": [
       "array([[ 9, 22, 44],\n",
       "       [17, 23,  1],\n",
       "       [ 1, 75, 86],\n",
       "       [ 9, 90, 79],\n",
       "       [15, 31, 97],\n",
       "       [19, 24, 56],\n",
       "       [86, 28, 11],\n",
       "       [37, 20, 98],\n",
       "       [66, 25, 19],\n",
       "       [73, 73, 95],\n",
       "       [14,  6,  1],\n",
       "       [49, 31, 59],\n",
       "       [ 4, 95, 30],\n",
       "       [96, 69, 87],\n",
       "       [24, 92, 52],\n",
       "       [ 9, 71, 50],\n",
       "       [95,  0, 54],\n",
       "       [ 0, 88,  8],\n",
       "       [78, 15, 12],\n",
       "       [15, 30, 52],\n",
       "       [33, 49, 60],\n",
       "       [11, 41, 29],\n",
       "       [ 9, 41, 87],\n",
       "       [ 4, 56, 19],\n",
       "       [ 7,  9, 16],\n",
       "       [44, 74, 62],\n",
       "       [42, 99, 14],\n",
       "       [44, 41, 66],\n",
       "       [64, 41, 95],\n",
       "       [62,  7, 57],\n",
       "       [10, 10, 76],\n",
       "       [91, 60, 59],\n",
       "       [87, 82, 93],\n",
       "       [79, 38, 45],\n",
       "       [22, 13, 79],\n",
       "       [ 8, 34, 97],\n",
       "       [50, 69, 27],\n",
       "       [90, 87, 82],\n",
       "       [30, 91, 57],\n",
       "       [98, 59, 61],\n",
       "       [ 1, 80, 70],\n",
       "       [ 1, 41, 17],\n",
       "       [60, 89,  2],\n",
       "       [49, 21, 44],\n",
       "       [14, 98,  6],\n",
       "       [95, 51, 19],\n",
       "       [ 5, 89, 43],\n",
       "       [72, 41, 98],\n",
       "       [46, 66, 94],\n",
       "       [64, 86, 61],\n",
       "       [18, 14, 53],\n",
       "       [92, 42,  7],\n",
       "       [35,  7, 34],\n",
       "       [94, 69, 29],\n",
       "       [35, 98, 32],\n",
       "       [55, 83,  1],\n",
       "       [40, 99, 35],\n",
       "       [78, 13, 22],\n",
       "       [46, 86, 13],\n",
       "       [21, 36, 38],\n",
       "       [28, 23,  5],\n",
       "       [53, 58, 57],\n",
       "       [58, 32, 81],\n",
       "       [21, 32, 30],\n",
       "       [70,  0, 54],\n",
       "       [14, 67, 60],\n",
       "       [17, 93, 48],\n",
       "       [17, 10, 67],\n",
       "       [83, 59, 78],\n",
       "       [ 8, 95, 81],\n",
       "       [47, 34, 18],\n",
       "       [68, 42, 44],\n",
       "       [10,  9, 12],\n",
       "       [29, 21, 93],\n",
       "       [73, 36,  0],\n",
       "       [61, 87, 53],\n",
       "       [11, 42, 62],\n",
       "       [27, 82, 34],\n",
       "       [37, 14, 97],\n",
       "       [31,  4, 29],\n",
       "       [74, 66, 17],\n",
       "       [42, 86, 43],\n",
       "       [ 1, 12, 35],\n",
       "       [66,  4, 90],\n",
       "       [64, 50, 95],\n",
       "       [ 6, 23, 86],\n",
       "       [ 9, 60, 42],\n",
       "       [67,  2, 57],\n",
       "       [80, 97, 32],\n",
       "       [52, 41, 87],\n",
       "       [ 1, 57, 34],\n",
       "       [88, 29, 27],\n",
       "       [38, 29, 79],\n",
       "       [18, 63, 43],\n",
       "       [58, 60, 33],\n",
       "       [53,  2, 25],\n",
       "       [64, 26, 61],\n",
       "       [89, 92, 53],\n",
       "       [81, 37, 55],\n",
       "       [91, 51, 93]])"
      ]
     },
     "execution_count": 7,
     "metadata": {},
     "output_type": "execute_result"
    }
   ],
   "source": [
    "import numpy as np\n",
    "\n",
    "x = np.random.randint(0, 100, (100,3))\n",
    "x"
   ]
  },
  {
   "cell_type": "markdown",
   "metadata": {},
   "source": [
    "Create a CSV file named <i>exercise.csv</i> with 1) the first row being the column names <i>col1</i>, <i>col2</i> and <i>col3</i>, 2) the following rows being the values from <i>x</i>, and 3) the separator between values being a tab."
   ]
  },
  {
   "cell_type": "code",
   "execution_count": 8,
   "metadata": {},
   "outputs": [],
   "source": [
    "# Your answer here\n"
   ]
  }
 ],
 "metadata": {
  "kernelspec": {
   "display_name": "Python 3",
   "language": "python",
   "name": "python3"
  },
  "language_info": {
   "codemirror_mode": {
    "name": "ipython",
    "version": 3
   },
   "file_extension": ".py",
   "mimetype": "text/x-python",
   "name": "python",
   "nbconvert_exporter": "python",
   "pygments_lexer": "ipython3",
   "version": "3.6.1"
  }
 },
 "nbformat": 4,
 "nbformat_minor": 1
}
